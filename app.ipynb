{
 "cells": [
  {
   "cell_type": "code",
   "execution_count": 2,
   "id": "93ef8237",
   "metadata": {},
   "outputs": [
    {
     "name": "stderr",
     "output_type": "stream",
     "text": [
      "ERROR: pip's dependency resolver does not currently take into account all the packages that are installed. This behaviour is the source of the following dependency conflicts.\n",
      "mysql-connector-python 8.0.31 requires protobuf<=3.20.1,>=3.11.0, but you have protobuf 3.20.3 which is incompatible.\n"
     ]
    },
    {
     "name": "stdout",
     "output_type": "stream",
     "text": [
      "Collecting streamlit\n",
      "  Using cached streamlit-1.16.0-py2.py3-none-any.whl (9.2 MB)\n",
      "Collecting gitpython!=3.1.19\n",
      "  Using cached GitPython-3.1.29-py3-none-any.whl (182 kB)\n",
      "Collecting altair>=3.2.0\n",
      "  Using cached altair-4.2.0-py3-none-any.whl (812 kB)\n",
      "Collecting watchdog\n",
      "  Using cached watchdog-2.2.0-py3-none-win_amd64.whl (78 kB)\n",
      "Collecting cachetools>=4.0\n",
      "  Using cached cachetools-5.2.0-py3-none-any.whl (9.3 kB)\n",
      "Collecting rich>=10.11.0\n",
      "  Using cached rich-12.6.0-py3-none-any.whl (237 kB)\n",
      "Collecting semver\n",
      "  Using cached semver-2.13.0-py2.py3-none-any.whl (12 kB)\n",
      "Collecting validators>=0.2\n",
      "  Using cached validators-0.20.0-py3-none-any.whl\n",
      "Collecting pillow>=6.2.0\n",
      "  Using cached Pillow-9.3.0-cp310-cp310-win_amd64.whl (2.5 MB)\n",
      "Requirement already satisfied: toml in c:\\users\\hits\\appdata\\local\\programs\\python\\python310\\lib\\site-packages (from streamlit) (0.10.2)\n",
      "Collecting blinker>=1.0.0\n",
      "  Using cached blinker-1.5-py2.py3-none-any.whl (12 kB)\n",
      "Requirement already satisfied: tornado>=5.0 in c:\\users\\hits\\appdata\\local\\programs\\python\\python310\\lib\\site-packages (from streamlit) (6.2)\n",
      "Collecting pympler>=0.9\n",
      "  Using cached Pympler-1.0.1-py3-none-any.whl (164 kB)\n",
      "Collecting protobuf<4,>=3.12\n",
      "  Using cached protobuf-3.20.3-cp310-cp310-win_amd64.whl (904 kB)\n",
      "Collecting pyarrow>=4.0\n",
      "  Using cached pyarrow-10.0.1-cp310-cp310-win_amd64.whl (20.2 MB)\n",
      "Requirement already satisfied: click>=7.0 in c:\\users\\hits\\appdata\\local\\programs\\python\\python310\\lib\\site-packages (from streamlit) (8.1.3)\n",
      "Collecting pydeck>=0.1.dev5\n",
      "  Using cached pydeck-0.8.0-py2.py3-none-any.whl (4.7 MB)\n",
      "Requirement already satisfied: numpy in c:\\users\\hits\\appdata\\local\\programs\\python\\python310\\lib\\site-packages (from streamlit) (1.24.0)\n",
      "Collecting typing-extensions>=3.10.0.0\n",
      "  Using cached typing_extensions-4.4.0-py3-none-any.whl (26 kB)\n",
      "Requirement already satisfied: requests>=2.4 in c:\\users\\hits\\appdata\\local\\programs\\python\\python310\\lib\\site-packages (from streamlit) (2.28.1)\n",
      "Requirement already satisfied: pandas>=0.21.0 in c:\\users\\hits\\appdata\\local\\programs\\python\\python310\\lib\\site-packages (from streamlit) (1.5.2)\n",
      "Collecting tzlocal>=1.1\n",
      "  Using cached tzlocal-4.2-py3-none-any.whl (19 kB)\n",
      "Collecting importlib-metadata>=1.4\n",
      "  Using cached importlib_metadata-5.2.0-py3-none-any.whl (21 kB)\n",
      "Requirement already satisfied: python-dateutil in c:\\users\\hits\\appdata\\local\\programs\\python\\python310\\lib\\site-packages (from streamlit) (2.8.2)\n",
      "Requirement already satisfied: packaging>=14.1 in c:\\users\\hits\\appdata\\local\\programs\\python\\python310\\lib\\site-packages (from streamlit) (22.0)\n",
      "Requirement already satisfied: entrypoints in c:\\users\\hits\\appdata\\local\\programs\\python\\python310\\lib\\site-packages (from altair>=3.2.0->streamlit) (0.4)\n",
      "Collecting toolz\n",
      "  Using cached toolz-0.12.0-py3-none-any.whl (55 kB)\n",
      "Requirement already satisfied: jsonschema>=3.0 in c:\\users\\hits\\appdata\\local\\programs\\python\\python310\\lib\\site-packages (from altair>=3.2.0->streamlit) (4.17.3)\n",
      "Requirement already satisfied: jinja2 in c:\\users\\hits\\appdata\\local\\programs\\python\\python310\\lib\\site-packages (from altair>=3.2.0->streamlit) (3.1.2)\n",
      "Requirement already satisfied: colorama in c:\\users\\hits\\appdata\\local\\programs\\python\\python310\\lib\\site-packages (from click>=7.0->streamlit) (0.4.5)\n",
      "Collecting gitdb<5,>=4.0.1\n",
      "  Using cached gitdb-4.0.10-py3-none-any.whl (62 kB)\n",
      "Collecting zipp>=0.5\n",
      "  Using cached zipp-3.11.0-py3-none-any.whl (6.6 kB)\n",
      "Requirement already satisfied: pytz>=2020.1 in c:\\users\\hits\\appdata\\local\\programs\\python\\python310\\lib\\site-packages (from pandas>=0.21.0->streamlit) (2022.7)\n",
      "Requirement already satisfied: six>=1.5 in c:\\users\\hits\\appdata\\local\\programs\\python\\python310\\lib\\site-packages (from python-dateutil->streamlit) (1.16.0)\n",
      "Requirement already satisfied: charset-normalizer<3,>=2 in c:\\users\\hits\\appdata\\local\\programs\\python\\python310\\lib\\site-packages (from requests>=2.4->streamlit) (2.1.1)\n",
      "Requirement already satisfied: certifi>=2017.4.17 in c:\\users\\hits\\appdata\\local\\programs\\python\\python310\\lib\\site-packages (from requests>=2.4->streamlit) (2022.12.7)\n",
      "Requirement already satisfied: urllib3<1.27,>=1.21.1 in c:\\users\\hits\\appdata\\local\\programs\\python\\python310\\lib\\site-packages (from requests>=2.4->streamlit) (1.26.13)\n",
      "Requirement already satisfied: idna<4,>=2.5 in c:\\users\\hits\\appdata\\local\\programs\\python\\python310\\lib\\site-packages (from requests>=2.4->streamlit) (3.4)\n",
      "Collecting commonmark<0.10.0,>=0.9.0\n",
      "  Using cached commonmark-0.9.1-py2.py3-none-any.whl (51 kB)\n",
      "Requirement already satisfied: pygments<3.0.0,>=2.6.0 in c:\\users\\hits\\appdata\\local\\programs\\python\\python310\\lib\\site-packages (from rich>=10.11.0->streamlit) (2.13.0)\n",
      "Collecting tzdata\n",
      "  Using cached tzdata-2022.7-py2.py3-none-any.whl (340 kB)\n",
      "Collecting pytz-deprecation-shim\n",
      "  Using cached pytz_deprecation_shim-0.1.0.post0-py2.py3-none-any.whl (15 kB)\n",
      "Requirement already satisfied: decorator>=3.4.0 in c:\\users\\hits\\appdata\\local\\programs\\python\\python310\\lib\\site-packages (from validators>=0.2->streamlit) (5.1.1)\n",
      "Collecting smmap<6,>=3.0.1\n",
      "  Using cached smmap-5.0.0-py3-none-any.whl (24 kB)\n",
      "Requirement already satisfied: MarkupSafe>=2.0 in c:\\users\\hits\\appdata\\local\\programs\\python\\python310\\lib\\site-packages (from jinja2->altair>=3.2.0->streamlit) (2.1.1)\n",
      "Requirement already satisfied: pyrsistent!=0.17.0,!=0.17.1,!=0.17.2,>=0.14.0 in c:\\users\\hits\\appdata\\local\\programs\\python\\python310\\lib\\site-packages (from jsonschema>=3.0->altair>=3.2.0->streamlit) (0.19.2)\n",
      "Requirement already satisfied: attrs>=17.4.0 in c:\\users\\hits\\appdata\\local\\programs\\python\\python310\\lib\\site-packages (from jsonschema>=3.0->altair>=3.2.0->streamlit) (22.2.0)\n",
      "Installing collected packages: commonmark, zipp, watchdog, validators, tzdata, typing-extensions, toolz, smmap, semver, rich, pympler, pyarrow, protobuf, pillow, cachetools, blinker, pytz-deprecation-shim, pydeck, importlib-metadata, gitdb, tzlocal, gitpython, altair, streamlit\n",
      "Successfully installed altair-4.2.0 blinker-1.5 cachetools-5.2.0 commonmark-0.9.1 gitdb-4.0.10 gitpython-3.1.29 importlib-metadata-5.2.0 pillow-9.3.0 protobuf-3.20.3 pyarrow-10.0.1 pydeck-0.8.0 pympler-1.0.1 pytz-deprecation-shim-0.1.0.post0 rich-12.6.0 semver-2.13.0 smmap-5.0.0 streamlit-1.16.0 toolz-0.12.0 typing-extensions-4.4.0 tzdata-2022.7 tzlocal-4.2 validators-0.20.0 watchdog-2.2.0 zipp-3.11.0\n"
     ]
    }
   ],
   "source": [
    "!pip install streamlit\n",
    "import pickle\n",
    "import streamlit as st\n",
    "import requests\n",
    "import pandas as pd\n",
    "import time\n"
   ]
  },
  {
   "cell_type": "code",
   "execution_count": 3,
   "id": "3239039f",
   "metadata": {},
   "outputs": [
    {
     "name": "stderr",
     "output_type": "stream",
     "text": [
      "2022-12-28 13:55:26.078 \n",
      "  \u001b[33m\u001b[1mWarning:\u001b[0m to view this Streamlit app on a browser, run it with the following\n",
      "  command:\n",
      "\n",
      "    streamlit run C:\\Users\\HITS\\AppData\\Local\\Programs\\Python\\Python310\\lib\\site-packages\\ipykernel_launcher.py [ARGUMENTS]\n"
     ]
    },
    {
     "data": {
      "text/plain": [
       "DeltaGenerator(_root_container=0, _provided_cursor=None, _parent=None, _block_type=None, _form_data=None)"
      ]
     },
     "execution_count": 3,
     "metadata": {},
     "output_type": "execute_result"
    }
   ],
   "source": [
    "st.markdown(\"<h1 text-align='center'>Books Recommendation System</h1>\", unsafe_allow_html=True)"
   ]
  },
  {
   "cell_type": "code",
   "execution_count": 4,
   "id": "a6fba8f5",
   "metadata": {},
   "outputs": [
    {
     "name": "stderr",
     "output_type": "stream",
     "text": [
      "Usage: streamlit run [OPTIONS] TARGET [ARGS]...\n",
      "Try 'streamlit run --help' for help.\n",
      "\n",
      "Error: Streamlit requires raw Python (.py) files, not .ipynb.\n",
      "For more information, please see https://docs.streamlit.io\n"
     ]
    }
   ],
   "source": [
    "!streamlit run app.ipynb"
   ]
  },
  {
   "cell_type": "code",
   "execution_count": null,
   "id": "66507516",
   "metadata": {},
   "outputs": [],
   "source": [
    "!streamlit run C:\\Users\\HITS\\AppData\\Local\\Programs\\Python\\Python310\\lib\\site-packages\\ipykernel_launcher.py"
   ]
  },
  {
   "cell_type": "code",
   "execution_count": null,
   "id": "482170e4",
   "metadata": {},
   "outputs": [],
   "source": []
  }
 ],
 "metadata": {
  "kernelspec": {
   "display_name": "Python 3 (ipykernel)",
   "language": "python",
   "name": "python3"
  },
  "language_info": {
   "codemirror_mode": {
    "name": "ipython",
    "version": 3
   },
   "file_extension": ".py",
   "mimetype": "text/x-python",
   "name": "python",
   "nbconvert_exporter": "python",
   "pygments_lexer": "ipython3",
   "version": "3.10.5"
  }
 },
 "nbformat": 4,
 "nbformat_minor": 5
}
